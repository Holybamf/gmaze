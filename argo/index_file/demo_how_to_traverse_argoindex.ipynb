{
 "cells": [
  {
   "cell_type": "markdown",
   "metadata": {},
   "source": [
    "Created on Fri May 12 14:09:25 2017\n",
    "\n",
    "# Demonstrate how to loop (sequentially) through Argo mono-profile files loaded from the detailled index csv file\n",
    "\n",
    "Traverse the index file by file:\n",
    "\n",
    "    for index, row in ai.iterrows():\n",
    "        print row['file']\n",
    "\n",
    "Traverse the index by chunk of N files:\n",
    "\n",
    "    N = 10\n",
    "    for k,rows in ai.groupby(np.arange(len(ai))//N):\n",
    "        print rows['file']\n",
    "\n",
    "Traverse the index by N chunk of files:\n",
    "\n",
    "    N = 3\n",
    "    for rows in np.array_split(ai,N):\n",
    "        print rows['file']\n",
    "\n",
    "\n",
    "ARGO DETAILLED INDEX HEADER AND 1ST LINES:\n",
    "\n",
    "    # Title : Profile directory file of the Argo Global Data Assembly Center\n",
    "    # Description : The directory file describes all individual profile files of the argo GDAC ftp site.\n",
    "    # Project : ARGO\n",
    "    # Format version : 2.1\n",
    "    # Date of update : 20160206015702\n",
    "    # FTP root number 1 : ftp://ftp.ifremer.fr/ifremer/argo/dac\n",
    "    # FTP root number 2 : ftp://usgodae.usgodae.org/pub/outgoing/argo/dac\n",
    "    # GDAC node : CORIOLIS\n",
    "    file,date,latitude,longitude,ocean,profiler_type,institution,date_update,profile_temp_qc,profile_psal_qc,profile_doxy_qc,ad_psal_adjustment_mean,ad_psal_adjustment_deviation,gdac_date_creation,gdac_date_update,n_levels\n",
    "    aoml/13857/profiles/R13857_001.nc,19970729200300,0.267,-16.032,A,845,AO,20080918131927,A,,,,,20080919024522,20080919024522,112\n",
    "    aoml/13857/profiles/R13857_002.nc,19970809192112,0.072,-17.659,A,845,AO,20080918131929,A,,,,,20080919024518,20080919024518,112\n",
    "    aoml/13857/profiles/R13857_003.nc,19970820184545,0.543,-19.622,A,845,AO,20080918131931,A,,,,,20080919024518,20080919024518,111\n",
    "    \n",
    "@author: gmaze\n",
    "\"\"\""
   ]
  },
  {
   "cell_type": "markdown",
   "metadata": {},
   "source": [
    "# Import and definition"
   ]
  },
  {
   "cell_type": "code",
   "execution_count": 2,
   "metadata": {
    "collapsed": true
   },
   "outputs": [],
   "source": [
    "import os\n",
    "import pandas as pd\n",
    "import numpy as np\n",
    "from netCDF4 import Dataset, num2date\n",
    "import multiprocessing\n",
    "num_processes = multiprocessing.cpu_count()\n",
    "\n",
    "# In[]:\n",
    "def read_argoindex(index_file):\n",
    "\t\"\"\"\n",
    "\t\tRead the Argo detailled index txt file and return it as a Panda Dataframe\n",
    "\t\"\"\"\n",
    "\treturn pd.read_csv(index_file,\n",
    "\t                 sep=',',index_col=None,header=0,skiprows=8,\n",
    "\t                 parse_dates=[1,7,13,14],\n",
    "\t                 dtype={'latitude':np.float32,'longitude':np.float32,\n",
    "\t                        'profiler_type':np.str,\n",
    "\t                        'profile_temp_qc':np.str,'profile_psal_qc':np.str,'profile_doxy_qc':np.str,\n",
    "\t                        'ad_psal_adjustment_mean':np.float32,'ad_psal_adjustment_deviation':np.float32,\n",
    "\t                       'n_levels':np.int})\n",
    "\n",
    "def load_argoindex(droot,ifile):\n",
    "\t\"\"\"\n",
    "\t\tLoad the Argo detailled index\n",
    "\t\tIf read for the first time, the index is saved locally as hdf5 file from\n",
    "\t\twhich it is loaded on new calls much faster.\n",
    "\t\"\"\"\n",
    "\tpre, ext = os.path.splitext(ifile)\n",
    "\tindex = os.path.expanduser(os.path.join(droot,ifile))\n",
    "\tstore = os.path.join(pre+'.h5')\n",
    "\tif not os.path.isfile(store):\n",
    "\t\tai = read_argoindex(index)\n",
    "\t\tai.to_hdf(store,'index')\n",
    "\t\tprint (\"Using Argo index file:\\n\\t%s\")%(index)\n",
    "\telse:\n",
    "\t\tai = pd.read_hdf(store, 'index')\n",
    "\t\tprint (\"Using Argo index file:\\n\\t%s\")%(store)\n",
    "\tprint (\">> Loaded index for %i Argo files\")%(ai.shape[0])\n",
    "\treturn ai"
   ]
  },
  {
   "cell_type": "markdown",
   "metadata": {},
   "source": [
    "# Load the Argo index as a Dataframe"
   ]
  },
  {
   "cell_type": "code",
   "execution_count": 12,
   "metadata": {
    "collapsed": false
   },
   "outputs": [
    {
     "name": "stdout",
     "output_type": "stream",
     "text": [
      "Using Argo index file:\n",
      "\targo_index_sample.h5\n",
      ">> Loaded index for 20 Argo files\n"
     ]
    }
   ],
   "source": [
    "# Define where are the Argo data and the index file:\n",
    "droot = '~/data/ARGO/DOI/10.12770/9d8ac2dc-6f4d-4379-8df2-714cab4a9ae7'\n",
    "ifile = 'argo_profile_detailled_index.txt'\n",
    "\n",
    "# Load the Argo index:\n",
    "ai = load_argoindex('.',\"argo_index_sample.txt\") # Sample index with 20 rows\n",
    "#ai = load_argoindex(droot,ifile) # Real index with about 1.5 millions of rows"
   ]
  },
  {
   "cell_type": "markdown",
   "metadata": {},
   "source": [
    "# Option 1: Traverse the list of files 1 by 1"
   ]
  },
  {
   "cell_type": "code",
   "execution_count": 15,
   "metadata": {
    "collapsed": false
   },
   "outputs": [
    {
     "name": "stdout",
     "output_type": "stream",
     "text": [
      "0 aoml/13857/profiles/R13857_001.nc\n",
      "1 aoml/13857/profiles/R13857_002.nc\n",
      "2 aoml/13857/profiles/R13857_003.nc\n",
      "3 aoml/13857/profiles/R13857_004.nc\n",
      "4 aoml/13857/profiles/R13857_005.nc\n",
      "5 aoml/13857/profiles/R13857_006.nc\n",
      "6 aoml/13857/profiles/R13857_007.nc\n",
      "7 aoml/13857/profiles/R13857_008.nc\n",
      "8 aoml/13857/profiles/R13857_009.nc\n",
      "9 aoml/13857/profiles/R13857_010.nc\n",
      "10 aoml/13857/profiles/R13857_011.nc\n",
      "11 aoml/13857/profiles/R13857_012.nc\n",
      "12 aoml/13857/profiles/R13857_013.nc\n",
      "13 aoml/13857/profiles/R13857_014.nc\n",
      "14 aoml/13857/profiles/R13857_015.nc\n",
      "15 aoml/13857/profiles/R13857_016.nc\n",
      "16 aoml/13857/profiles/R13857_017.nc\n",
      "17 aoml/13857/profiles/R13857_018.nc\n",
      "18 aoml/13857/profiles/R13857_019.nc\n",
      "19 aoml/13857/profiles/R13857_020.nc\n"
     ]
    }
   ],
   "source": [
    "for k, row in ai.iterrows():\n",
    "\tprint k, row['file']"
   ]
  },
  {
   "cell_type": "markdown",
   "metadata": {},
   "source": [
    "# Option 2: Traverse the index by chunk of N files"
   ]
  },
  {
   "cell_type": "code",
   "execution_count": 18,
   "metadata": {
    "collapsed": false
   },
   "outputs": [
    {
     "name": "stdout",
     "output_type": "stream",
     "text": [
      "0\n",
      "0    aoml/13857/profiles/R13857_001.nc\n",
      "1    aoml/13857/profiles/R13857_002.nc\n",
      "2    aoml/13857/profiles/R13857_003.nc\n",
      "Name: file, dtype: object\n",
      "1\n",
      "3    aoml/13857/profiles/R13857_004.nc\n",
      "4    aoml/13857/profiles/R13857_005.nc\n",
      "5    aoml/13857/profiles/R13857_006.nc\n",
      "Name: file, dtype: object\n",
      "2\n",
      "6    aoml/13857/profiles/R13857_007.nc\n",
      "7    aoml/13857/profiles/R13857_008.nc\n",
      "8    aoml/13857/profiles/R13857_009.nc\n",
      "Name: file, dtype: object\n",
      "3\n",
      "9     aoml/13857/profiles/R13857_010.nc\n",
      "10    aoml/13857/profiles/R13857_011.nc\n",
      "11    aoml/13857/profiles/R13857_012.nc\n",
      "Name: file, dtype: object\n",
      "4\n",
      "12    aoml/13857/profiles/R13857_013.nc\n",
      "13    aoml/13857/profiles/R13857_014.nc\n",
      "14    aoml/13857/profiles/R13857_015.nc\n",
      "Name: file, dtype: object\n",
      "5\n",
      "15    aoml/13857/profiles/R13857_016.nc\n",
      "16    aoml/13857/profiles/R13857_017.nc\n",
      "17    aoml/13857/profiles/R13857_018.nc\n",
      "Name: file, dtype: object\n",
      "6\n",
      "18    aoml/13857/profiles/R13857_019.nc\n",
      "19    aoml/13857/profiles/R13857_020.nc\n",
      "Name: file, dtype: object\n"
     ]
    }
   ],
   "source": [
    "N = 3\n",
    "for k,rows in ai.groupby(np.arange(len(ai))//N):\n",
    "    print k\n",
    "    print rows['file']"
   ]
  },
  {
   "cell_type": "markdown",
   "metadata": {},
   "source": [
    "# Option 3: Traverse the index by N chunk of files"
   ]
  },
  {
   "cell_type": "code",
   "execution_count": 20,
   "metadata": {
    "collapsed": false
   },
   "outputs": [
    {
     "name": "stdout",
     "output_type": "stream",
     "text": [
      "0    aoml/13857/profiles/R13857_001.nc\n",
      "1    aoml/13857/profiles/R13857_002.nc\n",
      "2    aoml/13857/profiles/R13857_003.nc\n",
      "3    aoml/13857/profiles/R13857_004.nc\n",
      "4    aoml/13857/profiles/R13857_005.nc\n",
      "5    aoml/13857/profiles/R13857_006.nc\n",
      "6    aoml/13857/profiles/R13857_007.nc\n",
      "Name: file, dtype: object\n",
      "7     aoml/13857/profiles/R13857_008.nc\n",
      "8     aoml/13857/profiles/R13857_009.nc\n",
      "9     aoml/13857/profiles/R13857_010.nc\n",
      "10    aoml/13857/profiles/R13857_011.nc\n",
      "11    aoml/13857/profiles/R13857_012.nc\n",
      "12    aoml/13857/profiles/R13857_013.nc\n",
      "13    aoml/13857/profiles/R13857_014.nc\n",
      "Name: file, dtype: object\n",
      "14    aoml/13857/profiles/R13857_015.nc\n",
      "15    aoml/13857/profiles/R13857_016.nc\n",
      "16    aoml/13857/profiles/R13857_017.nc\n",
      "17    aoml/13857/profiles/R13857_018.nc\n",
      "18    aoml/13857/profiles/R13857_019.nc\n",
      "19    aoml/13857/profiles/R13857_020.nc\n",
      "Name: file, dtype: object\n"
     ]
    }
   ],
   "source": [
    "N = 3\n",
    "for rows in np.array_split(ai,N):\n",
    "    print rows['file']"
   ]
  },
  {
   "cell_type": "code",
   "execution_count": null,
   "metadata": {
    "collapsed": true
   },
   "outputs": [],
   "source": []
  }
 ],
 "metadata": {
  "kernelspec": {
   "display_name": "Python 2",
   "language": "python",
   "name": "python2"
  },
  "language_info": {
   "codemirror_mode": {
    "name": "ipython",
    "version": 2
   },
   "file_extension": ".py",
   "mimetype": "text/x-python",
   "name": "python",
   "nbconvert_exporter": "python",
   "pygments_lexer": "ipython2",
   "version": "2.7.13"
  }
 },
 "nbformat": 4,
 "nbformat_minor": 2
}
